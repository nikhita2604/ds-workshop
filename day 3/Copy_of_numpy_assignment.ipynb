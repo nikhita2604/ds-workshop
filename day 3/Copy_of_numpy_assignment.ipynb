{
  "nbformat": 4,
  "nbformat_minor": 0,
  "metadata": {
    "colab": {
      "provenance": []
    },
    "kernelspec": {
      "name": "python3",
      "display_name": "Python 3"
    },
    "language_info": {
      "name": "python"
    }
  },
  "cells": [
    {
      "cell_type": "code",
      "execution_count": null,
      "metadata": {
        "id": "WAu3yLBoEs4m"
      },
      "outputs": [],
      "source": [
        "#create any 3 dimensional array and practice indexing"
      ]
    },
    {
      "cell_type": "code",
      "source": [
        "import numpy as np\n",
        "array_3d = np.array([[[1, 2, 3, 4],\n",
        "                      [5, 6, 7, 8],\n",
        "                      [9, 10, 11, 12]],\n",
        "\n",
        "                     [[13, 14, 15, 16],\n",
        "                      [17, 18, 19, 20],\n",
        "                      [21, 22, 23, 24]]])"
      ],
      "metadata": {
        "id": "UUH-TSvuZTnT"
      },
      "execution_count": null,
      "outputs": []
    },
    {
      "cell_type": "code",
      "source": [
        "element = array_3d[0, 1, 2]\n",
        "print(\"Element at [0, 1, 2]:\", element)"
      ],
      "metadata": {
        "id": "DDWNlDsBaLSc",
        "outputId": "c6bdb096-81e5-4605-85e0-5db38ef1b18c",
        "colab": {
          "base_uri": "https://localhost:8080/"
        }
      },
      "execution_count": null,
      "outputs": [
        {
          "output_type": "stream",
          "name": "stdout",
          "text": [
            "Element at [0, 1, 2]: 7\n"
          ]
        }
      ]
    },
    {
      "cell_type": "code",
      "source": [
        "row = array_3d[0, 0, :]\n",
        "print(\"First row of first layer:\", row)"
      ],
      "metadata": {
        "id": "w8dvTqoBaOdi",
        "outputId": "09189691-d50d-4c8c-c37c-a185cb2abc27",
        "colab": {
          "base_uri": "https://localhost:8080/"
        }
      },
      "execution_count": null,
      "outputs": [
        {
          "output_type": "stream",
          "name": "stdout",
          "text": [
            "First row of first layer: [1 2 3 4]\n"
          ]
        }
      ]
    },
    {
      "cell_type": "code",
      "source": [
        "column = array_3d[:, :, 1]\n",
        "print(\"Second column of all layers:\", column)"
      ],
      "metadata": {
        "id": "4pX6rTblaSAs",
        "outputId": "1a22db18-5e75-4f9c-f07d-507af33d5895",
        "colab": {
          "base_uri": "https://localhost:8080/"
        }
      },
      "execution_count": null,
      "outputs": [
        {
          "output_type": "stream",
          "name": "stdout",
          "text": [
            "Second column of all layers: [[ 2  6 10]\n",
            " [14 18 22]]\n"
          ]
        }
      ]
    },
    {
      "cell_type": "code",
      "source": [
        "sub_array = array_3d[0, 1:3, 0:2]\n",
        "print(\"Sub-array:\", sub_array)"
      ],
      "metadata": {
        "id": "D8wd5Rz8aWh5",
        "outputId": "68dcc4ae-fff4-4100-afb9-7a8ba457cac4",
        "colab": {
          "base_uri": "https://localhost:8080/"
        }
      },
      "execution_count": null,
      "outputs": [
        {
          "output_type": "stream",
          "name": "stdout",
          "text": [
            "Sub-array: [[ 5  6]\n",
            " [ 9 10]]\n"
          ]
        }
      ]
    },
    {
      "cell_type": "code",
      "source": [
        "#create array of suqares of keys of below dictionary\n",
        "#d = {1:2,2:3,3:4,4:5}"
      ],
      "metadata": {
        "id": "heew7jo-tBoD"
      },
      "execution_count": null,
      "outputs": []
    },
    {
      "cell_type": "code",
      "source": [
        "d = {1: 2, 2: 3, 3: 4, 4: 5}\n",
        "keys = d.keys()\n",
        "squares_array = np.array([key**2 for key in keys])\n",
        "print(squares_array)"
      ],
      "metadata": {
        "id": "lBclLR3zbPKg",
        "outputId": "7c315f5d-aed1-4039-8f43-85d4dadf8636",
        "colab": {
          "base_uri": "https://localhost:8080/"
        }
      },
      "execution_count": null,
      "outputs": [
        {
          "output_type": "stream",
          "name": "stdout",
          "text": [
            "[ 1  4  9 16]\n"
          ]
        }
      ]
    },
    {
      "cell_type": "code",
      "source": [
        "# multiply any 2 dim array to identity matrix (2*2) and comment on result\n"
      ],
      "metadata": {
        "id": "lVm5ozRmtZEK"
      },
      "execution_count": null,
      "outputs": []
    },
    {
      "cell_type": "markdown",
      "source": [],
      "metadata": {
        "id": "0J38E810bpLD"
      }
    },
    {
      "cell_type": "code",
      "source": [
        "import numpy as np\n",
        "array_2d = np.array([[1, 2],\n",
        "                     [3, 4]])\n",
        "identity_matrix = np.identity(2)\n",
        "result = np.dot(array_2d, identity_matrix)\n",
        "print(\"Original array:\")\n",
        "print(array_2d)\n",
        "\n",
        "print(\"\\nIdentity matrix:\")\n",
        "print(identity_matrix)\n",
        "\n",
        "print(\"\\nResult:\")\n",
        "print(result)\n"
      ],
      "metadata": {
        "id": "2N-K-OJSbmyN",
        "outputId": "2ee9d384-38c4-4b8b-d3d8-79501a87ae39",
        "colab": {
          "base_uri": "https://localhost:8080/"
        }
      },
      "execution_count": null,
      "outputs": [
        {
          "output_type": "stream",
          "name": "stdout",
          "text": [
            "Original array:\n",
            "[[1 2]\n",
            " [3 4]]\n",
            "\n",
            "Identity matrix:\n",
            "[[1. 0.]\n",
            " [0. 1.]]\n",
            "\n",
            "Result:\n",
            "[[1. 2.]\n",
            " [3. 4.]]\n"
          ]
        }
      ]
    }
  ]
}